{
 "cells": [
  {
   "cell_type": "code",
   "execution_count": 1,
   "metadata": {},
   "outputs": [],
   "source": [
    "import numpy as np\n",
    "import torch"
   ]
  },
  {
   "cell_type": "code",
   "execution_count": null,
   "metadata": {},
   "outputs": [
    {
     "name": "stdout",
     "output_type": "stream",
     "text": [
      "numpy min: 1, max: 5\n"
     ]
    }
   ],
   "source": [
    "x = [1, 2, 3, 4, 5]\n",
    "\n",
    "mn = np.min(x)\n",
    "mx = np.max(x)\n",
    "\n",
    "print(f\"numpy min: {mn}, max: {mx}\")"
   ]
  },
  {
   "cell_type": "code",
   "execution_count": null,
   "metadata": {},
   "outputs": [
    {
     "name": "stdout",
     "output_type": "stream",
     "text": [
      "index of min: 0, index of max: 4\n"
     ]
    }
   ],
   "source": [
    "arg_min = np.argmin(x)\n",
    "arg_max = np.argmax(x)\n",
    "\n",
    "print(f\"index of min: {arg_min}, index of max: {arg_max}\")"
   ]
  },
  {
   "cell_type": "code",
   "execution_count": null,
   "metadata": {},
   "outputs": [
    {
     "name": "stdout",
     "output_type": "stream",
     "text": [
      "numpy min in general: 1\n",
      "numpy min in rows: [1 2 3]\n",
      "numpy min in cols: [1 4 7]\n",
      "numpy max in general: 9\n",
      "numpy max in rows: [7 8 9]\n",
      "numpy max in cols: [3 6 9]\n",
      "numpy argmin in general: 0\n",
      "numpy argmin in rows: [0 0 0]\n",
      "numpy argmin in cols: [0 0 0]\n",
      "numpy argmax in general: 8\n",
      "numpy argmax in rows: [2 2 2]\n",
      "numpy argmax in cols: [2 2 2]\n"
     ]
    }
   ],
   "source": [
    "x = [[1, 2, 3], [4, 5, 6], [7, 8, 9]]\n",
    "\n",
    "mn_in_general = np.min(x)\n",
    "arr_mn_in_rows = np.min(x, axis=0)\n",
    "arr_mn_in_cols = np.min(x, axis=1)\n",
    "\n",
    "mx_in_general = np.max(x)\n",
    "arr_mx_in_rows = np.max(x, axis=0)\n",
    "arr_mx_in_cols = np.max(x, axis=1)\n",
    "\n",
    "arg_min_in_general = np.argmin(x)\n",
    "arg_min_in_rows = np.argmin(x, axis=0)\n",
    "arg_min_in_cols = np.argmin(x, axis=1)\n",
    "\n",
    "arg_max_in_general = np.argmax(x)\n",
    "arg_max_in_rows = np.argmax(x, axis=0)\n",
    "arg_max_in_cols = np.argmax(x, axis=1)\n",
    "\n",
    "print(f\"numpy min in general: {mn_in_general}\")\n",
    "print(f\"numpy min in rows: {arr_mn_in_rows}\")\n",
    "print(f\"numpy min in cols: {arr_mn_in_cols}\")\n",
    "\n",
    "print(f\"numpy max in general: {mx_in_general}\")\n",
    "print(f\"numpy max in rows: {arr_mx_in_rows}\")\n",
    "print(f\"numpy max in cols: {arr_mx_in_cols}\")\n",
    "\n",
    "print(f\"numpy argmin in general: {arg_min_in_general}\")\n",
    "print(f\"numpy argmin in rows: {arg_min_in_rows}\")\n",
    "print(f\"numpy argmin in cols: {arg_min_in_cols}\")\n",
    "\n",
    "print(f\"numpy argmax in general: {arg_max_in_general}\")\n",
    "print(f\"numpy argmax in rows: {arg_max_in_rows}\")\n",
    "print(f\"numpy argmax in cols: {arg_max_in_cols}\")"
   ]
  },
  {
   "cell_type": "code",
   "execution_count": null,
   "metadata": {},
   "outputs": [
    {
     "name": "stdout",
     "output_type": "stream",
     "text": [
      "torch min: 1, max: 5\n",
      "torch argmin: 0, argmax: 4\n"
     ]
    }
   ],
   "source": [
    "x = torch.tensor([1, 2, 3, 4, 5])\n",
    "\n",
    "mn = torch.min(x)\n",
    "mx = torch.max(x)\n",
    "\n",
    "arg_max = torch.argmax(x)\n",
    "arg_min = torch.argmin(x)\n",
    "\n",
    "print(f\"torch min: {mn}, max: {mx}\")\n",
    "print(f\"torch argmin: {arg_min}, argmax: {arg_max}\")"
   ]
  },
  {
   "cell_type": "code",
   "execution_count": 10,
   "metadata": {},
   "outputs": [],
   "source": [
    "x = torch.tensor([[1, 2, 3], [4, 5, 6]])\n",
    "\n",
    "mn_in_general = torch.min(x)\n",
    "mn_in_rows = torch.min(x, dim=0)\n",
    "mn_in_cols = torch.min(x, dim=1)\n",
    "\n",
    "\n",
    "mx_in_general = torch.max(x)\n",
    "\n",
    "# ...... etc, same as numpy"
   ]
  },
  {
   "cell_type": "code",
   "execution_count": null,
   "metadata": {},
   "outputs": [],
   "source": []
  }
 ],
 "metadata": {
  "kernelspec": {
   "display_name": "tf_gpu",
   "language": "python",
   "name": "python3"
  },
  "language_info": {
   "codemirror_mode": {
    "name": "ipython",
    "version": 3
   },
   "file_extension": ".py",
   "mimetype": "text/x-python",
   "name": "python",
   "nbconvert_exporter": "python",
   "pygments_lexer": "ipython3",
   "version": "3.12.7"
  }
 },
 "nbformat": 4,
 "nbformat_minor": 2
}
