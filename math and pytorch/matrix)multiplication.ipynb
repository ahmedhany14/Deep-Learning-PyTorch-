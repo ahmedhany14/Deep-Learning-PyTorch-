{
 "cells": [
  {
   "cell_type": "code",
   "execution_count": 1,
   "metadata": {},
   "outputs": [],
   "source": [
    "import numpy as np\n",
    "import torch"
   ]
  },
  {
   "cell_type": "code",
   "execution_count": 2,
   "metadata": {},
   "outputs": [
    {
     "name": "stdout",
     "output_type": "stream",
     "text": [
      "tensor([[ 58,  64],\n",
      "        [139, 154]])\n"
     ]
    }
   ],
   "source": [
    "''' \n",
    "to multiply two tensors, the number of columns in the first tensor must be equal to the number of rows in the second tensor\n",
    "and the result will have the same number of rows as the first tensor and the same number of columns as the second tensor\n",
    "'''\n",
    "# example: 2x3 * 3x2 = 2x2, 5x3 * 3x2 = 5x2\n",
    "\n",
    "# if a = 4 * 5 and b = 7 * 4, then a * b is not possible\n",
    "\n",
    "a = torch.tensor([[1, 2, 3], [4, 5, 6]]) # 2x3\n",
    "\n",
    "b = torch.tensor([[7, 8], [9, 10], [11, 12]]) # 3x2\n",
    "\n",
    "c = torch.mm(a, b) # 2x2\n",
    "\n",
    "print(c)\n"
   ]
  },
  {
   "cell_type": "code",
   "execution_count": 9,
   "metadata": {},
   "outputs": [
    {
     "name": "stdout",
     "output_type": "stream",
     "text": [
      "[[-0.94253455 -1.61722132  3.65387169]\n",
      " [-1.33834729  1.71657351  2.20872812]\n",
      " [ 0.1475974   0.07701213 -7.18949552]\n",
      " [-0.80132801 -1.86121014  0.85882197]\n",
      " [-0.75432509  1.61219358  0.59925529]\n",
      " [ 0.06187302 -0.1683555   2.68546749]\n",
      " [ 0.22053088 -0.90556089  0.46490178]\n",
      " [-0.68129779 -0.5051298   3.0187079 ]\n",
      " [-0.39827275  0.5270064  -0.19388476]\n",
      " [ 2.99104976 -2.20854567 -0.49056572]]\n"
     ]
    }
   ],
   "source": [
    "a = np.random.randn(10, 5) # 10x5\n",
    "\n",
    "b = np.random.randn(5, 3) # 5x13   \n",
    "\n",
    "c = np.dot(a, b) # 5x2\n",
    "\n",
    "print(c)"
   ]
  },
  {
   "cell_type": "code",
   "execution_count": null,
   "metadata": {},
   "outputs": [],
   "source": [
    " "
   ]
  }
 ],
 "metadata": {
  "kernelspec": {
   "display_name": "tf_gpu",
   "language": "python",
   "name": "python3"
  },
  "language_info": {
   "codemirror_mode": {
    "name": "ipython",
    "version": 3
   },
   "file_extension": ".py",
   "mimetype": "text/x-python",
   "name": "python",
   "nbconvert_exporter": "python",
   "pygments_lexer": "ipython3",
   "version": "3.12.7"
  }
 },
 "nbformat": 4,
 "nbformat_minor": 2
}
