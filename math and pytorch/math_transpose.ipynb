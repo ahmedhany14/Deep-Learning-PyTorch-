{
 "cells": [
  {
   "cell_type": "code",
   "execution_count": null,
   "metadata": {},
   "outputs": [],
   "source": [
    "import numpy as np\n",
    "import torch"
   ]
  },
  {
   "cell_type": "code",
   "execution_count": null,
   "metadata": {},
   "outputs": [
    {
     "name": "stdout",
     "output_type": "stream",
     "text": [
      "[[1 2 3 4 5]]\n",
      "[[1]\n",
      " [2]\n",
      " [3]\n",
      " [4]\n",
      " [5]]\n",
      "[[1 2 3 4 5]]\n"
     ]
    }
   ],
   "source": [
    "# create a vector of numpy\n",
    "\n",
    "npArray = np.array([[1, 2, 3, 4, 5]])\n",
    "\n",
    "print(npArray)\n",
    "\n",
    "print(npArray.T)\n",
    "\n",
    "# transpose the numpy array\n",
    "npArrayT = npArray.T\n",
    "\n",
    "# Transpose the transposed numpy array\n",
    "print(npArrayT.T)"
   ]
  },
  {
   "cell_type": "code",
   "execution_count": null,
   "metadata": {},
   "outputs": [
    {
     "name": "stdout",
     "output_type": "stream",
     "text": [
      "tensor([[1, 2, 3, 4, 5]])\n",
      "tensor([[1],\n",
      "        [2],\n",
      "        [3],\n",
      "        [4],\n",
      "        [5]])\n",
      "tensor([[1, 2, 3, 4, 5]])\n"
     ]
    }
   ],
   "source": [
    "# create a vector of torch\n",
    "\n",
    "torchArray = torch.tensor([[1, 2, 3, 4, 5]])\n",
    "\n",
    "print(torchArray)\n",
    "\n",
    "print(torchArray.T)\n",
    "\n",
    "# transpose the torch array\n",
    "\n",
    "torchArrayT = torchArray.T\n",
    "\n",
    "# Transpose the transposed torch array\n",
    "print(torchArrayT.T)"
   ]
  },
  {
   "cell_type": "code",
   "execution_count": 7,
   "metadata": {},
   "outputs": [
    {
     "name": "stdout",
     "output_type": "stream",
     "text": [
      "tensor([[[ 1,  2,  3,  4,  5],\n",
      "         [ 6,  7,  8,  9, 10]]])\n",
      "tensor([[[ 1],\n",
      "         [ 6]],\n",
      "\n",
      "        [[ 2],\n",
      "         [ 7]],\n",
      "\n",
      "        [[ 3],\n",
      "         [ 8]],\n",
      "\n",
      "        [[ 4],\n",
      "         [ 9]],\n",
      "\n",
      "        [[ 5],\n",
      "         [10]]])\n",
      "tensor([[[ 1,  2,  3,  4,  5],\n",
      "         [ 6,  7,  8,  9, 10]]])\n"
     ]
    }
   ],
   "source": [
    "NDtorchArray = torch.tensor([[[1, 2, 3, 4, 5], [6, 7, 8, 9, 10]]])\n",
    "\n",
    "print(NDtorchArray)\n",
    "\n",
    "print(NDtorchArray.T)\n",
    "\n",
    "# transpose the torch array\n",
    "\n",
    "NDtorchArrayT = NDtorchArray.T\n",
    "\n",
    "# Transpose the transposed torch array\n",
    "print(NDtorchArrayT.T)"
   ]
  },
  {
   "cell_type": "code",
   "execution_count": null,
   "metadata": {},
   "outputs": [],
   "source": []
  }
 ],
 "metadata": {
  "kernelspec": {
   "display_name": "tf_gpu",
   "language": "python",
   "name": "python3"
  },
  "language_info": {
   "codemirror_mode": {
    "name": "ipython",
    "version": 3
   },
   "file_extension": ".py",
   "mimetype": "text/x-python",
   "name": "python",
   "nbconvert_exporter": "python",
   "pygments_lexer": "ipython3",
   "version": "3.12.7"
  }
 },
 "nbformat": 4,
 "nbformat_minor": 2
}
